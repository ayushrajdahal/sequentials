{
 "cells": [
  {
   "cell_type": "code",
   "execution_count": 4,
   "metadata": {},
   "outputs": [],
   "source": [
    "from sequentials import bigram\n",
    "import os"
   ]
  },
  {
   "cell_type": "code",
   "execution_count": 5,
   "metadata": {},
   "outputs": [],
   "source": [
    "filename = 'requirements.txt'\n",
    "\n",
    "if not os.path.exists(filename):\n",
    "    raise FileNotFoundError(f\"File {filename} not found.\")\n",
    "with open(filename, 'r') as file:\n",
    "    names = file.read().splitlines()"
   ]
  },
  {
   "cell_type": "code",
   "execution_count": 3,
   "metadata": {},
   "outputs": [
    {
     "ename": "TypeError",
     "evalue": "Bigram.compute_loss() takes 3 positional arguments but 4 were given",
     "output_type": "error",
     "traceback": [
      "\u001b[0;31m---------------------------------------------------------------------------\u001b[0m",
      "\u001b[0;31mTypeError\u001b[0m                                 Traceback (most recent call last)",
      "Cell \u001b[0;32mIn[3], line 6\u001b[0m\n\u001b[1;32m      1\u001b[0m names_bigram \u001b[38;5;241m=\u001b[39m bigram\u001b[38;5;241m.\u001b[39mBigram(names)\n\u001b[1;32m      3\u001b[0m \u001b[38;5;66;03m# xs = bigram.tokenize_names(names, str_to_index)\u001b[39;00m\n\u001b[0;32m----> 6\u001b[0m \u001b[43mnames_bigram\u001b[49m\u001b[38;5;241;43m.\u001b[39;49m\u001b[43mtrain_model\u001b[49m\u001b[43m(\u001b[49m\u001b[43m)\u001b[49m\n\u001b[1;32m      8\u001b[0m samples \u001b[38;5;241m=\u001b[39m names_bigram\u001b[38;5;241m.\u001b[39msample_model()\n\u001b[1;32m      9\u001b[0m \u001b[38;5;28mprint\u001b[39m(\u001b[38;5;124m'\u001b[39m\u001b[38;5;130;01m\\n\u001b[39;00m\u001b[38;5;124mGenerated names:\u001b[39m\u001b[38;5;124m'\u001b[39m)\n",
      "File \u001b[0;32m~/projects/sequentials/sequentials/bigram/bigram.py:61\u001b[0m, in \u001b[0;36mBigram.train_model\u001b[0;34m(self, learning_rate, epochs)\u001b[0m\n\u001b[1;32m     58\u001b[0m ys \u001b[38;5;241m=\u001b[39m torch\u001b[38;5;241m.\u001b[39mtensor(\u001b[38;5;28mself\u001b[39m\u001b[38;5;241m.\u001b[39mxs[\u001b[38;5;241m1\u001b[39m:], dtype\u001b[38;5;241m=\u001b[39mtorch\u001b[38;5;241m.\u001b[39mlong)\n\u001b[1;32m     60\u001b[0m \u001b[38;5;28;01mfor\u001b[39;00m epoch \u001b[38;5;129;01min\u001b[39;00m \u001b[38;5;28mrange\u001b[39m(epochs):\n\u001b[0;32m---> 61\u001b[0m     loss \u001b[38;5;241m=\u001b[39m \u001b[38;5;28;43mself\u001b[39;49m\u001b[38;5;241;43m.\u001b[39;49m\u001b[43mcompute_loss\u001b[49m\u001b[43m(\u001b[49m\u001b[38;5;28;43mself\u001b[39;49m\u001b[38;5;241;43m.\u001b[39;49m\u001b[43mW\u001b[49m\u001b[43m,\u001b[49m\u001b[43m \u001b[49m\u001b[43mxs\u001b[49m\u001b[43m,\u001b[49m\u001b[43m \u001b[49m\u001b[43mys\u001b[49m\u001b[43m)\u001b[49m\n\u001b[1;32m     62\u001b[0m     \u001b[38;5;28;01mif\u001b[39;00m (epoch) \u001b[38;5;241m%\u001b[39m \u001b[38;5;241m100\u001b[39m \u001b[38;5;241m==\u001b[39m \u001b[38;5;241m0\u001b[39m:\n\u001b[1;32m     63\u001b[0m         \u001b[38;5;28mprint\u001b[39m(\u001b[38;5;124mf\u001b[39m\u001b[38;5;124m'\u001b[39m\u001b[38;5;124mEpoch \u001b[39m\u001b[38;5;132;01m{\u001b[39;00mepoch\u001b[38;5;132;01m}\u001b[39;00m\u001b[38;5;124m, loss=\u001b[39m\u001b[38;5;132;01m{\u001b[39;00mloss\u001b[38;5;241m.\u001b[39mitem()\u001b[38;5;132;01m:\u001b[39;00m\u001b[38;5;124m.4f\u001b[39m\u001b[38;5;132;01m}\u001b[39;00m\u001b[38;5;124m'\u001b[39m)\n",
      "\u001b[0;31mTypeError\u001b[0m: Bigram.compute_loss() takes 3 positional arguments but 4 were given"
     ]
    }
   ],
   "source": [
    "names_bigram = bigram.Bigram(names)\n",
    "\n",
    "# xs = bigram.tokenize_names(names, str_to_index)\n",
    "\n",
    "\n",
    "names_bigram.train_model()\n",
    "\n",
    "samples = names_bigram.sample_model()\n",
    "print('\\nGenerated names:')\n",
    "print(samples)"
   ]
  },
  {
   "cell_type": "code",
   "execution_count": null,
   "metadata": {},
   "outputs": [],
   "source": [
    "\n",
    "# Example usage\n",
    "torch.manual_seed(42)\n",
    "\n",
    "# Read in all the words and build the dataset\n",
    "words = open('names.txt', 'r').read().splitlines()\n",
    "random.seed(42)\n",
    "random.shuffle(words)\n",
    "\n",
    "# Instantiate the CNN model\n",
    "model = CNN(len(set(''.join(words))), embedding_dim=24, hidden_dim=128)\n",
    "\n",
    "# Build dataset and train the model\n",
    "model.build_dataset(words)\n",
    "model.train()\n",
    "\n",
    "# Evaluate the model\n",
    "model.evaluate('train')\n",
    "model.evaluate('val')\n",
    "model.evaluate('test')\n",
    "\n",
    "# Sample from the model\n",
    "stoi = {s: i+1 for i, s in enumerate(sorted(list(set(''.join(words)))))}\n",
    "stoi['.'] = 0\n",
    "model.sample(stoi)\n"
   ]
  }
 ],
 "metadata": {
  "kernelspec": {
   "display_name": "Python 3",
   "language": "python",
   "name": "python3"
  },
  "language_info": {
   "codemirror_mode": {
    "name": "ipython",
    "version": 3
   },
   "file_extension": ".py",
   "mimetype": "text/x-python",
   "name": "python",
   "nbconvert_exporter": "python",
   "pygments_lexer": "ipython3",
   "version": "3.11.9"
  }
 },
 "nbformat": 4,
 "nbformat_minor": 2
}
